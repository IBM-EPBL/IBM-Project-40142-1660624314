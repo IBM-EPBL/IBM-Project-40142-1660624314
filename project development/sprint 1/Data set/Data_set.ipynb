{
  "nbformat": 4,
  "nbformat_minor": 0,
  "metadata": {
    "colab": {
      "provenance": [],
      "collapsed_sections": []
    },
    "kernelspec": {
      "name": "python3",
      "display_name": "Python 3"
    },
    "language_info": {
      "name": "python"
    }
  },
  "cells": [
    {
      "cell_type": "code",
      "source": [
        "from google.colab import drive\n",
        "drive.mount('/content/drive')"
      ],
      "metadata": {
        "colab": {
          "base_uri": "https://localhost:8080/"
        },
        "id": "saiPg7QdYD6m",
        "outputId": "075fed85-2156-440a-a5a9-5f9d692481ec"
      },
      "execution_count": 1,
      "outputs": [
        {
          "output_type": "stream",
          "name": "stdout",
          "text": [
            "Mounted at /content/drive\n"
          ]
        }
      ]
    },
    {
      "cell_type": "code",
      "source": [
        "https://drive.google.com/file/d/16SUrk6lMaakmVf4axGNDub3joHl-XdBT/view?usp=sharing"
      ],
      "metadata": {
        "id": "DLPYFqXqYjr7"
      },
      "execution_count": null,
      "outputs": []
    }
  ]
}